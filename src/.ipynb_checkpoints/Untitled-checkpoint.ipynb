{
 "cells": [
  {
   "cell_type": "code",
   "execution_count": 27,
   "metadata": {
    "collapsed": true
   },
   "outputs": [],
   "source": [
    "import cbba\n",
    "import cPickle as pickle\n",
    "import time"
   ]
  },
  {
   "cell_type": "code",
   "execution_count": 3,
   "metadata": {
    "collapsed": true
   },
   "outputs": [],
   "source": [
    "c_ij = pickle.load(open('cijag0env0.p','rb'))"
   ]
  },
  {
   "cell_type": "code",
   "execution_count": 32,
   "metadata": {},
   "outputs": [
    {
     "data": {
      "text/plain": [
       "<kinematics.Pose instance at 0x12cfeea70>"
      ]
     },
     "execution_count": 32,
     "metadata": {},
     "output_type": "execute_result"
    }
   ],
   "source": [
    "c_ij[3][0]"
   ]
  },
  {
   "cell_type": "code",
   "execution_count": 26,
   "metadata": {
    "scrolled": true
   },
   "outputs": [],
   "source": []
  },
  {
   "cell_type": "code",
   "execution_count": 82,
   "metadata": {
    "collapsed": true
   },
   "outputs": [],
   "source": [
    "#Self\n",
    "bbRound=0\n",
    "tasksList = c_ij[2][1]\n",
    "c_ij0 = c_ij[2][2]\n",
    "b_bundle= []\n",
    "p_path = []\n",
    "z_winagents = [-1 for i in newTasksSet]\n",
    "y_winbids = [-99 for i in newTasksSet]\n",
    "L_maxTasks = 6\n",
    "inf = 9999999"
   ]
  },
  {
   "cell_type": "code",
   "execution_count": 83,
   "metadata": {},
   "outputs": [
    {
     "name": "stdout",
     "output_type": "stream",
     "text": [
      "NO TASKS YET\n",
      "0 <type 'int'>\n",
      "<type 'frozenset'>\n"
     ]
    },
    {
     "ename": "NameError",
     "evalue": "name 'precision' is not defined",
     "output_type": "error",
     "traceback": [
      "\u001b[0;31m---------------------------------------------------------------------------\u001b[0m",
      "\u001b[0;31mNameError\u001b[0m                                 Traceback (most recent call last)",
      "\u001b[0;32m<ipython-input-83-b7ad4fbf93a8>\u001b[0m in \u001b[0;36m<module>\u001b[0;34m()\u001b[0m\n\u001b[1;32m     33\u001b[0m             \u001b[0;32mprint\u001b[0m \u001b[0my_winbids\u001b[0m\u001b[0;34m\u001b[0m\u001b[0m\n\u001b[1;32m     34\u001b[0m             \u001b[0;32mprint\u001b[0m \u001b[0mz_winagents\u001b[0m\u001b[0;34m\u001b[0m\u001b[0m\n\u001b[0;32m---> 35\u001b[0;31m         \u001b[0;32mif\u001b[0m \u001b[0;34m(\u001b[0m\u001b[0mnewBid\u001b[0m\u001b[0;34m-\u001b[0m\u001b[0my_winbids\u001b[0m\u001b[0;34m[\u001b[0m\u001b[0mj\u001b[0m\u001b[0;34m]\u001b[0m\u001b[0;34m)\u001b[0m\u001b[0;34m>\u001b[0m\u001b[0mprecision\u001b[0m \u001b[0;32mor\u001b[0m \u001b[0;34m(\u001b[0m\u001b[0mabs\u001b[0m\u001b[0;34m(\u001b[0m\u001b[0mnewBid\u001b[0m\u001b[0;34m-\u001b[0m\u001b[0my_winbids\u001b[0m\u001b[0;34m[\u001b[0m\u001b[0mj\u001b[0m\u001b[0;34m]\u001b[0m\u001b[0;34m)\u001b[0m\u001b[0;34m<\u001b[0m\u001b[0mprecision\u001b[0m \u001b[0;32mand\u001b[0m \u001b[0magentID\u001b[0m \u001b[0;34m>\u001b[0m \u001b[0mz_winagents\u001b[0m\u001b[0;34m[\u001b[0m\u001b[0mj\u001b[0m\u001b[0;34m]\u001b[0m\u001b[0;34m)\u001b[0m\u001b[0;34m:\u001b[0m\u001b[0;34m\u001b[0m\u001b[0m\n\u001b[0m\u001b[1;32m     36\u001b[0m             \u001b[0mh_ij\u001b[0m \u001b[0;34m=\u001b[0m \u001b[0mnewBid\u001b[0m\u001b[0;34m\u001b[0m\u001b[0m\n\u001b[1;32m     37\u001b[0m             \u001b[0;32mif\u001b[0m \u001b[0mh_ij\u001b[0m\u001b[0;34m>\u001b[0m\u001b[0mJvalue\u001b[0m\u001b[0;34m:\u001b[0m\u001b[0;34m\u001b[0m\u001b[0m\n",
      "\u001b[0;31mNameError\u001b[0m: name 'precision' is not defined"
     ]
    }
   ],
   "source": [
    "tic = time.time()\n",
    "bbRound+=1\n",
    "\n",
    "# if agentID==0:\n",
    "#     print bbRound, [(t,'%0.03f'%y_winbids[t],z_winagents[t]) for t in range(len(y_winbids))]\n",
    "bundleSet = frozenset(b_bundle)\n",
    "newTasksSet = frozenset(range(len(tasksList))) - bundleSet\n",
    "# newTasksSet = frozenset(tasksSet) - bundleSet\n",
    "while len(bundleSet) < L_maxTasks and len(newTasksSet)>0:\n",
    "    J = None #Winning task (J)\n",
    "    Jvalue = -inf #Winning task marg value\n",
    "    bestPath = []\n",
    "    if len(bundleSet)==0:\n",
    "        print \"NO TASKS YET\"\n",
    "        (currentPath,currentValue) = ([],0)\n",
    "    else:\n",
    "        (currentPath,currentValue) = c_ij0[bundleSet]\n",
    "    for j in newTasksSet:\n",
    "#         j_task = tasksList[j]\n",
    "        # if j in b_bundle:\n",
    "        #     continue\n",
    "        newBundle = bundleSet | frozenset([j])\n",
    "        (newPath,newValue) = c_ij0[newBundle]\n",
    "        #Bid on all the new tasks and get the highest marginal score\n",
    "        # [c_ij, task_n] = max_marginal_value(j,p_path,tasksList) #7\n",
    "        newBid = newValue - currentValue\n",
    "        #If task has highest marg value and largest on team, add task to current path\n",
    "        if j >= len(y_winbids) or j>=len(z_winagents):\n",
    "            print \"j out of range\", j\n",
    "            print newTasksSet\n",
    "            print y_winbids\n",
    "            print z_winagents\n",
    "        if (newBid-y_winbids[j])>precision or (abs(newBid-y_winbids[j])<precision and agentID > z_winagents[j]):\n",
    "            h_ij = newBid\n",
    "            if h_ij>Jvalue:\n",
    "                J = j\n",
    "                Jvalue = h_ij\n",
    "                bestPathSet = newBundle\n",
    "                bestPath = newPath #10\n",
    "    if J != None:\n",
    "        b_bundle.append(J)#11\n",
    "        bundleSet = bestPathSet\n",
    "        p_path = bestPath\n",
    "        # p_path.insert(Jn,J) #12\n",
    "        y_winbids[J] = Jvalue #13\n",
    "        i = agentID\n",
    "        z_winagents[J] = i\n",
    "        newTasksSet.remove(J) #Delete the task from \"new tasks\" since its assigned\n",
    "    else:\n",
    "        #print len(newTasksSet) #I think i need to get out\n",
    "        break\n",
    "#         return p_path\n",
    "if debugBB:\n",
    "    print agentID, \"rd\", bbRound, [(t,'%0.03f'%y_winbids[t]) for t in b_bundle]\n",
    "toc = time.time()\n",
    "timeResults = toc-tic\n",
    "print p_path"
   ]
  },
  {
   "cell_type": "code",
   "execution_count": null,
   "metadata": {
    "collapsed": true
   },
   "outputs": [],
   "source": []
  }
 ],
 "metadata": {
  "kernelspec": {
   "display_name": "Python [default]",
   "language": "python",
   "name": "python2"
  },
  "language_info": {
   "codemirror_mode": {
    "name": "ipython",
    "version": 2
   },
   "file_extension": ".py",
   "mimetype": "text/x-python",
   "name": "python",
   "nbconvert_exporter": "python",
   "pygments_lexer": "ipython2",
   "version": "2.7.13"
  }
 },
 "nbformat": 4,
 "nbformat_minor": 2
}
