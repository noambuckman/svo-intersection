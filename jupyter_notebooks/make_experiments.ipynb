{
 "cells": [
  {
   "cell_type": "markdown",
   "metadata": {},
   "source": [
    "# Generate Simulation Settings\n",
    "\n",
    "## Author:  Noam Buckman\n",
    "\n",
    "## Purpose:  \n",
    "This Notebook generates and saves multiple experiment savings for analyzing the effects of different parameters.  \n",
    "The settings can be varied by % human (non-communicating) vehicles and SVO type.  \n",
    "\n",
    "\n",
    "Output:  Multiple Pickle (.p) files that save the Vehicle settings."
   ]
  },
  {
   "cell_type": "code",
   "execution_count": 1,
   "metadata": {},
   "outputs": [],
   "source": [
    "%load_ext autoreload\n",
    "%autoreload 2\n",
    "%matplotlib inline\n",
    "import sys, os, pickle\n",
    "import numpy as np\n",
    "\n",
    "# sys.path.append('/home/noambuckman/traffic_simulations/src')\n",
    "sys.path.append('/Users/noambuckman/git-repos/traffic_simulations/src/')\n",
    "import TrafficSimulator as ts"
   ]
  },
  {
   "cell_type": "markdown",
   "metadata": {},
   "source": [
    "# Generating Simulations"
   ]
  },
  {
   "cell_type": "code",
   "execution_count": 2,
   "metadata": {},
   "outputs": [],
   "source": [
    "results_directory = '/Users/noambuckman/git-repos/traffic_simulations/results/'\n",
    "if not os.path.exists(results_directory):\n",
    "    os.makedirs(results_directory)"
   ]
  },
  {
   "cell_type": "code",
   "execution_count": 3,
   "metadata": {},
   "outputs": [],
   "source": [
    "def assign_human(sim_car_lists, p_human):\n",
    "    sim_car_lists_with_humans = []\n",
    "    for list_of_cars in sim_car_lists:\n",
    "        #Choose Human Type\n",
    "        list_of_car_with_human_specs = []\n",
    "        \n",
    "        for (arrival_time, agentID, human_type, svo_theta, turn_direction, start_lane) in list_of_cars:\n",
    "            coin_flip = np.random.random()\n",
    "            if coin_flip < p_human:\n",
    "                new_human_type = \"Human\"\n",
    "            else:\n",
    "                new_human_type = \"AV\"\n",
    "            \n",
    "            list_of_car_with_human_specs += [(arrival_time, agentID, new_human_type, svo_theta, turn_direction, start_lane)]\n",
    "        sim_car_lists_with_humans += [list_of_car_with_human_specs]\n",
    "    return sim_car_lists_with_humans\n",
    "\n",
    "def assign_svo(sim_car_lists, svo_theta_list):\n",
    "    sim_car_lists_with_svo = []\n",
    "    for list_of_cars in sim_car_lists:\n",
    "        #Choose Human Type\n",
    "        list_of_car_with_svo_specs = []\n",
    "        \n",
    "        for (arrival_time, agentID, human_type, svo_theta, turn_direction, start_lane) in list_of_cars:\n",
    "            \n",
    "            \n",
    "            new_svo_theta = np.random.choice(svo_theta_list)\n",
    "\n",
    "            \n",
    "            \n",
    "            list_of_car_with_svo_specs += [(arrival_time, agentID, human_type, new_svo_theta, turn_direction, start_lane)]\n",
    "        sim_car_lists_with_svo += [list_of_car_with_svo_specs]\n",
    "    return sim_car_lists_with_svo    "
   ]
  },
  {
   "cell_type": "markdown",
   "metadata": {},
   "source": [
    "## 1. Generate (and save) the arrival times for all vehicles \n",
    "\n",
    "This will be fixed for all experiments since we don't want to vary the traffic conditions, just the \n",
    "vehicle-specific settings (communicating, SVO)"
   ]
  },
  {
   "cell_type": "code",
   "execution_count": 25,
   "metadata": {},
   "outputs": [],
   "source": [
    "number_sims = 25\n",
    "all_cars_arrivals_turns = [ts.generate_simulation_cars(16, 0.33, 0.33, 0.1) for s in range(number_sims)]"
   ]
  },
  {
   "cell_type": "code",
   "execution_count": 26,
   "metadata": {},
   "outputs": [],
   "source": [
    "pickle.dump(all_cars_arrivals_turns,open(results_directory+'all_cars_arrivals_turns.p','wb'))"
   ]
  },
  {
   "cell_type": "markdown",
   "metadata": {},
   "source": [
    "## 2. Vary the percentage of humans"
   ]
  },
  {
   "cell_type": "code",
   "execution_count": 29,
   "metadata": {},
   "outputs": [],
   "source": [
    "all_cars_h0 = assign_human(all_cars_arrivals_turns, 0.0)\n",
    "all_cars_h25 = assign_human(all_cars_arrivals_turns, 0.25)\n",
    "all_cars_h50 = assign_human(all_cars_arrivals_turns, 0.50)\n",
    "all_cars_h75 = assign_human(all_cars_arrivals_turns, 0.50)\n",
    "all_cars_h100 = assign_human(all_cars_arrivals_turns, 1.00)"
   ]
  },
  {
   "cell_type": "code",
   "execution_count": 30,
   "metadata": {},
   "outputs": [],
   "source": [
    "pickle.dump(all_cars_h0,open(results_directory+'all_cars_h0.p','wb'))\n",
    "pickle.dump(all_cars_h25,open(results_directory+'all_cars_h25.p','wb'))\n",
    "pickle.dump(all_cars_h50,open(results_directory+'all_cars_h50.p','wb'))\n",
    "pickle.dump(all_cars_h75,open(results_directory+'all_cars_h75.p','wb'))\n",
    "pickle.dump(all_cars_h100,open(results_directory+'all_cars_h100.p','wb'))"
   ]
  },
  {
   "cell_type": "markdown",
   "metadata": {},
   "source": [
    "## 3.  Vary the distribution of SVOs of the vehicles"
   ]
  },
  {
   "cell_type": "code",
   "execution_count": 32,
   "metadata": {},
   "outputs": [],
   "source": [
    "all_cars_h0_all_ego = assign_svo(all_cars_h0, [0.0])\n",
    "all_cars_h0_all_pro = assign_svo(all_cars_h0, [np.pi/4.0])\n",
    "all_cars_h0_mixed3 = assign_svo(all_cars_h0, [np.pi/4.0, np.pi/6.0, 0])\n",
    "all_cars_h0_mixed4 = assign_svo(all_cars_h0, [np.pi/4.0, np.pi/6.0, np.pi/12.0, 0])"
   ]
  },
  {
   "cell_type": "code",
   "execution_count": 33,
   "metadata": {},
   "outputs": [],
   "source": [
    "pickle.dump(all_cars_h0_all_ego,open(results_directory+'all_cars_h0_ego.p','wb'))\n",
    "pickle.dump(all_cars_h0_all_pro,open(results_directory+'all_cars_h0_all_pro.p','wb'))\n",
    "pickle.dump(all_cars_h0_mixed3,open(results_directory+'all_cars_h0_mixed3.p','wb'))\n",
    "pickle.dump(all_cars_h0_mixed4,open(results_directory+'all_cars_h0_mixed4.p','wb'))\n"
   ]
  },
  {
   "cell_type": "code",
   "execution_count": 34,
   "metadata": {},
   "outputs": [],
   "source": [
    "all_cars_h25_all_ego = assign_svo(all_cars_h25, [0.0])\n",
    "all_cars_h25_all_pro = assign_svo(all_cars_h25, [np.pi/4.0])\n",
    "all_cars_h25_mixed3 = assign_svo(all_cars_h25, [np.pi/4.0, np.pi/6.0, 0])\n",
    "all_cars_h25_mixed4 = assign_svo(all_cars_h25, [np.pi/4.0, np.pi/6.0, np.pi/12.0, 0])"
   ]
  },
  {
   "cell_type": "code",
   "execution_count": 35,
   "metadata": {},
   "outputs": [],
   "source": [
    "pickle.dump(all_cars_h25_all_ego,open(results_directory+'all_cars_h25_ego.p','wb'))\n",
    "pickle.dump(all_cars_h25_all_pro,open(results_directory+'all_cars_h25_all_pro.p','wb'))\n",
    "pickle.dump(all_cars_h25_mixed3,open(results_directory+'all_cars_h25_mixed3.p','wb'))\n",
    "pickle.dump(all_cars_h25_mixed4,open(results_directory+'all_cars_h25_mixed4.p','wb'))\n"
   ]
  },
  {
   "cell_type": "code",
   "execution_count": 36,
   "metadata": {},
   "outputs": [],
   "source": [
    "all_cars_h50_all_ego = assign_svo(all_cars_h50, [0.0])\n",
    "all_cars_h50_all_pro = assign_svo(all_cars_h50, [np.pi/4.0])\n",
    "all_cars_h50_mixed3 = assign_svo(all_cars_h50, [np.pi/4.0, np.pi/6.0, 0])\n",
    "all_cars_h50_mixed4 = assign_svo(all_cars_h50, [np.pi/4.0, np.pi/6.0, np.pi/12.0, 0])"
   ]
  },
  {
   "cell_type": "code",
   "execution_count": 37,
   "metadata": {},
   "outputs": [],
   "source": [
    "pickle.dump(all_cars_h50_all_ego,open(results_directory+'all_cars_h50_ego.p','wb'))\n",
    "pickle.dump(all_cars_h50_all_pro,open(results_directory+'all_cars_h50_all_pro.p','wb'))\n",
    "pickle.dump(all_cars_h50_mixed3,open(results_directory+'all_cars_h50_mixed3.p','wb'))\n",
    "pickle.dump(all_cars_h50_mixed4,open(results_directory+'all_cars_h50_mixed4.p','wb'))\n"
   ]
  },
  {
   "cell_type": "code",
   "execution_count": 38,
   "metadata": {},
   "outputs": [],
   "source": [
    "all_cars_h75_all_ego = assign_svo(all_cars_h75, [0.0])\n",
    "all_cars_h75_all_pro = assign_svo(all_cars_h75, [np.pi/4.0])\n",
    "all_cars_h75_mixed3 = assign_svo(all_cars_h75, [np.pi/4.0, np.pi/6.0, 0])\n",
    "all_cars_h75_mixed4 = assign_svo(all_cars_h75, [np.pi/4.0, np.pi/6.0, np.pi/12.0, 0])"
   ]
  },
  {
   "cell_type": "code",
   "execution_count": 39,
   "metadata": {},
   "outputs": [],
   "source": [
    "pickle.dump(all_cars_h75_all_ego,open(results_directory+'all_cars_h75_ego.p','wb'))\n",
    "pickle.dump(all_cars_h75_all_pro,open(results_directory+'all_cars_h75_all_pro.p','wb'))\n",
    "pickle.dump(all_cars_h75_mixed3,open(results_directory+'all_cars_h75_mixed3.p','wb'))\n",
    "pickle.dump(all_cars_h75_mixed4,open(results_directory+'all_cars_h75_mixed4.p','wb'))\n"
   ]
  },
  {
   "cell_type": "code",
   "execution_count": 40,
   "metadata": {},
   "outputs": [],
   "source": [
    "all_cars_h100_all_ego = assign_svo(all_cars_h100, [0.0])\n",
    "all_cars_h100_all_pro = assign_svo(all_cars_h100, [np.pi/4.0])\n",
    "all_cars_h100_mixed3 = assign_svo(all_cars_h100, [np.pi/4.0, np.pi/6.0, 0])\n",
    "all_cars_h100_mixed4 = assign_svo(all_cars_h100, [np.pi/4.0, np.pi/6.0, np.pi/12.0, 0])"
   ]
  },
  {
   "cell_type": "code",
   "execution_count": 41,
   "metadata": {},
   "outputs": [],
   "source": [
    "pickle.dump(all_cars_h100_all_ego,open(results_directory+'all_cars_h100_ego.p','wb'))\n",
    "pickle.dump(all_cars_h100_all_pro,open(results_directory+'all_cars_h100_all_pro.p','wb'))\n",
    "pickle.dump(all_cars_h100_mixed3,open(results_directory+'all_cars_h100_mixed3.p','wb'))\n",
    "pickle.dump(all_cars_h100_mixed4,open(results_directory+'all_cars_h100_mixed4.p','wb'))\n"
   ]
  }
 ],
 "metadata": {
  "kernelspec": {
   "display_name": "Python 3",
   "language": "python",
   "name": "python3"
  },
  "language_info": {
   "codemirror_mode": {
    "name": "ipython",
    "version": 3
   },
   "file_extension": ".py",
   "mimetype": "text/x-python",
   "name": "python",
   "nbconvert_exporter": "python",
   "pygments_lexer": "ipython3",
   "version": "3.7.7"
  }
 },
 "nbformat": 4,
 "nbformat_minor": 2
}
